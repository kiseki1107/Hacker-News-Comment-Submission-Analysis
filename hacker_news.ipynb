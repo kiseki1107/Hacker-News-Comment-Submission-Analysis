{
 "cells": [
  {
   "cell_type": "markdown",
   "metadata": {},
   "source": [
    "# Hacker News Comment Submission Analysis\n",
    "\n",
    "## Introduction\n",
    "\n",
    "This project aims to collect data from a popular technology site, [Hacker News](https://news.ycombinator.com/), and perform analysis on the popularity of the website's user submissions. Hacker News, which functions similarly to Reddit, is known for its social news geared towards technology, computer science, and entrepreneurship audiences. With the ever-increasing advancements in the technological world today, more news and discussions are submitted in Hacker News occassionally where top posts can get hundreds and thousands of visitors as a result. Particularly, there has been an ongoing popularly with posts whose title begin with either `Ask HN` or `Show HN` where users submit `Ask HN` posts to ask the Hacker News community a specific question and `Show HN` posts to show the Hacker News community a project, product, or interesting topic.\n",
    "\n",
    "A sample Hacker News comments data set can be found [here](https://www.kaggle.com/hacker-news/hacker-news-posts) via Kaggle. This data will be collected, cleaned, and analyzed to determine the following:\n",
    "* Do `Ask HN` or `Show HN` receive more commentss on average?\n",
    "* Do posts crteated at a certain time receive more comments on average?\n",
    "\n",
    "Note: For this analysis, the data set was already reduced from almost 300,000 rows to 20,000 rows by removing all submissions that did not receive any comments, and then randomly sampling from the remaining submissions."
   ]
  },
  {
   "cell_type": "code",
   "execution_count": 4,
   "metadata": {},
   "outputs": [],
   "source": [
    "# Import dependencies\n",
    "from csv import reader\n",
    "import datetime as dt"
   ]
  },
  {
   "cell_type": "code",
   "execution_count": 5,
   "metadata": {},
   "outputs": [
    {
     "name": "stdout",
     "output_type": "stream",
     "text": [
      "['id', 'title', 'url', 'num_points', 'num_comments', 'author', 'created_at']\n",
      "\n",
      "\n",
      "[['12579008', 'You have two days to comment if you want stem cells to be classified as your own', 'http://www.regulations.gov/document?D=FDA-2015-D-3719-0018', '1', '0', 'altstar', '9/26/2016 3:26'], ['12579005', 'SQLAR  the SQLite Archiver', 'https://www.sqlite.org/sqlar/doc/trunk/README.md', '1', '0', 'blacksqr', '9/26/2016 3:24'], ['12578997', 'What if we just printed a flatscreen television on the side of our boxes?', 'https://medium.com/vanmoof/our-secrets-out-f21c1f03fdc8#.ietxmez43', '1', '0', 'pavel_lishin', '9/26/2016 3:19'], ['12578989', 'algorithmic music', 'http://cacm.acm.org/magazines/2011/7/109891-algorithmic-composition/fulltext', '1', '0', 'poindontcare', '9/26/2016 3:16'], ['12578979', 'How the Data Vault Enables the Next-Gen Data Warehouse and Data Lake', 'https://www.talend.com/blog/2016/05/12/talend-and-Â\\x93the-data-vaultÂ\\x94', '1', '0', 'markgainor1', '9/26/2016 3:14']]\n"
     ]
    }
   ],
   "source": [
    "# Open and read hacker news file.\n",
    "open_file = open(\"Resources/hacker_news.csv\", encoding='utf-8')\n",
    "read_file = reader(open_file)\n",
    "hn = list(read_file)\n",
    "\n",
    "# Separate column names from data rows.\n",
    "hn_head = hn[0]\n",
    "print(hn_head)\n",
    "\n",
    "print(\"\\n\")\n",
    "\n",
    "# Display the first five rows of data\n",
    "hn = hn[1:]\n",
    "print(hn[:5])"
   ]
  },
  {
   "cell_type": "markdown",
   "metadata": {},
   "source": [
    "## Data Analysis"
   ]
  },
  {
   "cell_type": "code",
   "execution_count": 6,
   "metadata": {},
   "outputs": [
    {
     "name": "stdout",
     "output_type": "stream",
     "text": [
      "There are 9,139 'ask hn' posts.\n",
      "There are 10,158 'show hn' posts.\n",
      "There are 273,822 other posts.\n"
     ]
    }
   ],
   "source": [
    "# Create three empty lists to separate different posts.\n",
    "ask_posts = []\n",
    "show_posts = []\n",
    "other_posts = []\n",
    "\n",
    "# Loop through each title post to separate them accordingly.\n",
    "for row in hn:\n",
    "    title = row[1]\n",
    "    if title.lower().startswith('ask hn'):\n",
    "        ask_posts.append(row)\n",
    "    elif title.lower().startswith('show hn'):\n",
    "        show_posts.append(row)\n",
    "    else:\n",
    "        other_posts.append(row)\n",
    "        \n",
    "# Count the total number of post per post type.\n",
    "print(\"There are {:,} 'ask hn' posts.\".format(len(ask_posts)))\n",
    "print(\"There are {:,} 'show hn' posts.\".format(len(show_posts)))\n",
    "print(\"There are {:,} other posts.\".format(len(other_posts)))\n"
   ]
  },
  {
   "cell_type": "code",
   "execution_count": 7,
   "metadata": {},
   "outputs": [
    {
     "name": "stdout",
     "output_type": "stream",
     "text": [
      "There are 94,986 comments in 'ask hn' posts.\n",
      "There is an average of 10.393478498741656 comments in 'ask hn' posts.\n"
     ]
    }
   ],
   "source": [
    "total_ask_comments = 0\n",
    "\n",
    "# Iterate over the ask posts and add its comments to get the sum.\n",
    "for post in ask_posts:\n",
    "    num_ask_comments = int(post[4])\n",
    "    total_ask_comments = total_ask_comments + num_ask_comments\n",
    "    \n",
    "# Compute the average number of comments on ask posts.\n",
    "avg_ask_comments = total_ask_comments / len(ask_posts)\n",
    "print(\"There are {:,} comments in 'ask hn' posts.\".format(total_ask_comments))\n",
    "print(\"There is an average of {:,} comments in 'ask hn' posts.\".format(avg_ask_comments))"
   ]
  },
  {
   "cell_type": "code",
   "execution_count": 8,
   "metadata": {},
   "outputs": [
    {
     "name": "stdout",
     "output_type": "stream",
     "text": [
      "There are 49,633 comments in 'show hn' posts.\n",
      "There is an average of 4.886099625910612 comments in 'show hn' posts.\n"
     ]
    }
   ],
   "source": [
    "total_show_comments = 0\n",
    "\n",
    "# Iterate over the ask posts and add its comments to get the sum.\n",
    "for post in show_posts:\n",
    "    num_show_comments = int(post[4])\n",
    "    total_show_comments = total_show_comments + num_show_comments\n",
    "    \n",
    "# Compute the average number of comments on ask posts.\n",
    "avg_show_comments = total_show_comments / len(show_posts)\n",
    "print(\"There are {:,} comments in 'show hn' posts.\".format(total_show_comments))\n",
    "print(\"There is an average of {:,} comments in 'show hn' posts.\".format(avg_show_comments))"
   ]
  },
  {
   "cell_type": "markdown",
   "metadata": {},
   "source": [
    "Based on this data set, `ask hn` posts has more overall submissions and comments than `show hn` posts (approximately 14 comments vs 10 comments).\n",
    "\n",
    "Since ask posts receive more comments than show posts, the remaining analysis will focus on the `ask hn` posts. In order to determine if ask posts created at a certain time are more likely to attract comments, the following analysis are needed:\n",
    "1. Calculate the amount of ask posts created in each hour of the day, along with the number of comments received.\n",
    "2. Calculate the average number of comments ask posts received by hour created.\n"
   ]
  },
  {
   "cell_type": "code",
   "execution_count": 9,
   "metadata": {},
   "outputs": [
    {
     "data": {
      "text/plain": [
       "[['9/26/2016 2:53', 7],\n",
       " ['9/26/2016 1:17', 3],\n",
       " ['9/25/2016 22:57', 0],\n",
       " ['9/25/2016 22:48', 3],\n",
       " ['9/25/2016 21:50', 2]]"
      ]
     },
     "execution_count": 9,
     "metadata": {},
     "output_type": "execute_result"
    }
   ],
   "source": [
    "# Create an empty list to store the time of posts and number of post comments.\n",
    "result_list = []\n",
    "\n",
    "# Iterate over ask posts.\n",
    "for post in ask_posts:\n",
    "    post_time = post[6]\n",
    "    num_comments = int(post[4])\n",
    "    result_list.append([post_time, num_comments])\n",
    "\n",
    "# Preview the list of lists.\n",
    "result_list[:5]"
   ]
  },
  {
   "cell_type": "code",
   "execution_count": 10,
   "metadata": {},
   "outputs": [],
   "source": [
    "counts_by_hour = {}\n",
    "comments_by_hour = {}\n",
    "\n",
    "# Iterate over the list of lists created in the previous cell.\n",
    "# Extract the hour from the date.\n",
    "for list in result_list:\n",
    "    post_time = list[0]\n",
    "    post_time = dt.datetime.strptime(post_time,\"%m/%d/%Y %H:%M\")\n",
    "    post_hour = post_time.strftime(\"%H\")\n",
    "    \n",
    "    # Create a frequency table for the 'hour' and 'comment' keys\n",
    "    if post_hour not in counts_by_hour:\n",
    "        counts_by_hour[post_hour] = 1\n",
    "        comments_by_hour[post_hour] = list[1]    \n",
    "    \n",
    "    elif post_hour in counts_by_hour:\n",
    "        counts_by_hour[post_hour] += 1\n",
    "        comments_by_hour[post_hour] += list[1]\n"
   ]
  },
  {
   "cell_type": "code",
   "execution_count": 11,
   "metadata": {},
   "outputs": [
    {
     "data": {
      "text/plain": [
       "[['02', 11.137546468401487],\n",
       " ['01', 7.407801418439717],\n",
       " ['22', 8.804177545691905],\n",
       " ['21', 8.687258687258687],\n",
       " ['19', 7.163043478260869],\n",
       " ['17', 9.449744463373083],\n",
       " ['15', 28.676470588235293],\n",
       " ['14', 9.692007797270955],\n",
       " ['13', 16.31756756756757],\n",
       " ['11', 8.96474358974359],\n",
       " ['10', 10.684397163120567],\n",
       " ['09', 6.653153153153153],\n",
       " ['07', 7.013274336283186],\n",
       " ['03', 7.948339483394834],\n",
       " ['23', 6.696793002915452],\n",
       " ['20', 8.749019607843136],\n",
       " ['16', 7.713298791018998],\n",
       " ['08', 9.190661478599221],\n",
       " ['00', 7.5647840531561465],\n",
       " ['18', 7.94299674267101],\n",
       " ['12', 12.380116959064328],\n",
       " ['04', 9.7119341563786],\n",
       " ['06', 6.782051282051282],\n",
       " ['05', 8.794258373205741]]"
      ]
     },
     "execution_count": 11,
     "metadata": {},
     "output_type": "execute_result"
    }
   ],
   "source": [
    "# Calculate average comments per post during each hour of the day.\n",
    "avg_by_hour = []\n",
    "\n",
    "for hour in comments_by_hour:\n",
    "    avg_by_hour.append([hour, comments_by_hour[hour]/counts_by_hour[hour]])\n",
    "    \n",
    "avg_by_hour"
   ]
  },
  {
   "cell_type": "code",
   "execution_count": 12,
   "metadata": {},
   "outputs": [
    {
     "data": {
      "text/plain": [
       "[[11.137546468401487, '02'],\n",
       " [7.407801418439717, '01'],\n",
       " [8.804177545691905, '22'],\n",
       " [8.687258687258687, '21'],\n",
       " [7.163043478260869, '19'],\n",
       " [9.449744463373083, '17'],\n",
       " [28.676470588235293, '15'],\n",
       " [9.692007797270955, '14'],\n",
       " [16.31756756756757, '13'],\n",
       " [8.96474358974359, '11'],\n",
       " [10.684397163120567, '10'],\n",
       " [6.653153153153153, '09'],\n",
       " [7.013274336283186, '07'],\n",
       " [7.948339483394834, '03'],\n",
       " [6.696793002915452, '23'],\n",
       " [8.749019607843136, '20'],\n",
       " [7.713298791018998, '16'],\n",
       " [9.190661478599221, '08'],\n",
       " [7.5647840531561465, '00'],\n",
       " [7.94299674267101, '18'],\n",
       " [12.380116959064328, '12'],\n",
       " [9.7119341563786, '04'],\n",
       " [6.782051282051282, '06'],\n",
       " [8.794258373205741, '05']]"
      ]
     },
     "execution_count": 12,
     "metadata": {},
     "output_type": "execute_result"
    }
   ],
   "source": [
    "# Recreate the hour average list by swapping the hour and average elements.\n",
    "swap_avg_by_hour = []\n",
    "for hour in avg_by_hour:\n",
    "    swap_avg_by_hour.append([hour[1],hour[0]])\n",
    "    \n",
    "swap_avg_by_hour"
   ]
  },
  {
   "cell_type": "code",
   "execution_count": 13,
   "metadata": {},
   "outputs": [
    {
     "name": "stdout",
     "output_type": "stream",
     "text": [
      "Top 5 Hours for Ask posts Comments\n",
      "==================================\n",
      "15:00: 28.68 average comments per post\n",
      "13:00: 16.32 average comments per post\n",
      "12:00: 12.38 average comments per post\n",
      "02:00: 11.14 average comments per post\n",
      "10:00: 10.68 average comments per post\n"
     ]
    }
   ],
   "source": [
    "# Sort descending the list for better readability.\n",
    "sorted_swap = sorted(swap_avg_by_hour, reverse=True)\n",
    "\n",
    "# Print formatted results.\n",
    "print(\"Top 5 Hours for Ask posts Comments\")\n",
    "print(\"==================================\")\n",
    "for average, hour in sorted_swap[:5]:\n",
    "    print(\"{}: {:.2f} average comments per post\".format(dt.datetime.strptime(hour, \"%H\").strftime(\"%H:%M\"),average))\n",
    "\n",
    "            \n",
    "    "
   ]
  },
  {
   "cell_type": "markdown",
   "metadata": {},
   "source": [
    "## Conclusion\n",
    "\n",
    "The purpose of this project is to utilze [Hacker News](https://news.ycombinator.com/) [data set](https://www.kaggle.com/hacker-news/hacker-news-posts) to determine the popularity of posts and their communal interactions via user comments at certain times of the day. Commonly used by most Hacker News users, the `ask hn` and `show hn` posts were compared and analyzed.\n",
    "\n",
    "The findings in the sample data set show that `ask hn` posts did not only receive the most posts and repective comments, but also has the most average comments per post as compared to `show hn` posts. To maximize the average comments per `ask hn` post throughout the day, it is recommended to create an `ask hn` post at around 15:00 (or 3:00 pm EST) with an average of 38.59 comments."
   ]
  },
  {
   "cell_type": "markdown",
   "metadata": {},
   "source": [
    "### Analysis Next Steps:\n",
    "* Determine if show or ask posts receive more points on average.\n",
    "* Determine if posts created at a certain time are more likely to receive more points.\n",
    "* Compare results to the average number of comments and points other posts receive."
   ]
  },
  {
   "cell_type": "code",
   "execution_count": null,
   "metadata": {},
   "outputs": [],
   "source": []
  }
 ],
 "metadata": {
  "kernelspec": {
   "display_name": "Python 3",
   "language": "python",
   "name": "python3"
  },
  "language_info": {
   "codemirror_mode": {
    "name": "ipython",
    "version": 3
   },
   "file_extension": ".py",
   "mimetype": "text/x-python",
   "name": "python",
   "nbconvert_exporter": "python",
   "pygments_lexer": "ipython3",
   "version": "3.7.3"
  }
 },
 "nbformat": 4,
 "nbformat_minor": 2
}
